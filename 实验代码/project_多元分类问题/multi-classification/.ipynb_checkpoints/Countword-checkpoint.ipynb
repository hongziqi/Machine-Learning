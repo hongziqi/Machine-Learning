{
 "cells": [
  {
   "cell_type": "markdown",
   "metadata": {},
   "source": [
    "version 3.0.2\n",
    "stop word\n",
    "soft clean train set & iter = 2  （0.15）\n",
    "\n",
    "\n",
    "简单统计关于类别的词频，得到词频矩阵。  \n",
    "矩阵行数为单词数，列为LOW, MID, HIG  \n",
    "列归一化后再行归一化  \n",
    "得到的矩阵的行向量即为每个单词关于每个类别似然概率  "
   ]
  },
  {
   "cell_type": "code",
   "execution_count": 1,
   "metadata": {},
   "outputs": [],
   "source": [
    "import operator\n",
    "import re\n",
    "\n",
    "import numpy as np\n",
    "\n",
    "from functools import reduce\n",
    "from collections import Counter"
   ]
  },
  {
   "cell_type": "code",
   "execution_count": 2,
   "metadata": {},
   "outputs": [],
   "source": [
    "labels = ('LOW', 'MID', 'HIG')\n",
    "label2int = {'LOW':0, 'MID':1, 'HIG':2}\n",
    "stopword = [\n",
    "    \"i\",          \"me\",         \"my\",         \"myself\",     \"we\", \"us\",       \n",
    "    \"our\",        \"ours\",       \"ourselves\",  \"you\",        \"your\",      \n",
    "    \"yours\",      \"yourself\",   \"yourselves\", \"he\",         \"him\",       \n",
    "    \"his\",        \"himself\",    \"she\",        \"her\",        \"hers\",      \n",
    "    \"herself\",    \"it\",         \"its\",        \"itself\",     \"they\",      \n",
    "    \"them\",       \"their\",      \"theirs\",     \"themselves\", \"what\",      \n",
    "    \"which\",      \"who\",        \"whom\",       \"this\",       \"that\",      \n",
    "    \"these\",      \"those\",      \"am\",         \"is\",         \"are\",       \n",
    "    \"was\",        \"were\",       \"be\",         \"been\",       \"being\",     \n",
    "    \"have\",       \"has\",        \"had\",        \"having\",     \"do\",        \n",
    "    \"does\",       \"did\",        \"doing\",      \"thats\",      \"the\",        \n",
    "    \"and\",        \"whos\",       \"whats\",      \"heres\",      \"theres\",    \n",
    "    \"whens\",      \"wheres\",     \"whys\",       \"hows\",       \"a\",         \n",
    "    \"an\",         \"when\",       \"where\",      \"why\",        \"with\",\n",
    "    \"how\",        \"own\"\n",
    "]"
   ]
  },
  {
   "cell_type": "code",
   "execution_count": 3,
   "metadata": {},
   "outputs": [],
   "source": [
    "def cleanString(string):\n",
    "    string = re.sub('- *[lr]rb *-', ' ', string)\n",
    "    string = re.sub('(^| )http:[^ ]+', ' ', string)\n",
    "    string = re.sub('/', ' ', string)\n",
    "    string = re.sub('[^A-Za-z !?<>]+', '', string)\n",
    "    string = re.sub('(^| )[A-Za-z]( |$)', ' ', string)\n",
    "    return string\n",
    "def readData(fpath):\n",
    "    label = []\n",
    "    dataset = [] \n",
    "    file = open(fpath, encoding='UTF-8')\n",
    "    for line in file:\n",
    "        l = line.split('\\t\\t')\n",
    "        label.append(l[0])\n",
    "        item = cleanString(l[1].strip()).split('<sssss>')\n",
    "        dataset.append(item)\n",
    "    file.close()\n",
    "    return label, dataset\n",
    "def generating_matrix(stat):\n",
    "    LMH = {}\n",
    "    sum_L = sum(stat['LOW'].values())\n",
    "    sum_M = sum(stat['MID'].values())\n",
    "    sum_H = sum(stat['HIG'].values())\n",
    "    vocabulary = map(lambda x:set(stat[x].keys()), labels)\n",
    "    vocabulary = reduce(operator.or_,vocabulary)\n",
    "    for voc in vocabulary:\n",
    "        count = [stat['LOW'][voc]/sum_L, stat['MID'][voc]/sum_M, stat['HIG'][voc]/sum_H]\n",
    "        count = np.array(count)\n",
    "        sigma = count.sum()\n",
    "        count = count / sigma\n",
    "        LMH[voc] = {'count': count}\n",
    "    return LMH"
   ]
  },
  {
   "cell_type": "code",
   "execution_count": 4,
   "metadata": {},
   "outputs": [
    {
     "name": "stdout",
     "output_type": "stream",
     "text": [
      "loading data ...done\n"
     ]
    }
   ],
   "source": [
    "print('loading data ...', end='', flush=True)\n",
    "train_label, train_set = readData('MulLabelTrain.ss')\n",
    "_, test_set = readData('MulLabelTest.ss')\n",
    "print('done')"
   ]
  },
  {
   "cell_type": "code",
   "execution_count": null,
   "metadata": {},
   "outputs": [],
   "source": [
    "print('counting words ...')\n",
    "print('init iteration', flush=True)\n",
    "word_statistics = {'LOW': Counter(), 'MID': Counter(), 'HIG': Counter()}\n",
    "progress = 0\n",
    "for l, item in zip(train_label, train_set):\n",
    "    for sentnc in item:\n",
    "        word_statistics[l] += Counter(sentnc.split())\n",
    "    progress += 1\n",
    "    if progress % 100 == 0:\n",
    "        print('\\b'*10, round(progress/62522*100,2), '% ', end='', flush=True)\n",
    "# max_iteration = 2\n",
    "# watchlist = (\n",
    "#     'perfect', 'love', 'amazing', 'delicious',\n",
    "#     'wait', 'again', 'will', 'nt', 'very',\n",
    "#     'nice', 'bad', 'decent', 'just', 'however', 'but',\n",
    "#     'ok', 'better', 'great', '!', '?'\n",
    "# )\n",
    "# for t in range(max_iteration):\n",
    "#     LMH = generating_matrix(word_statistics)\n",
    "#     for wl in watchlist:\n",
    "#         print(wl+':', LMH[wl])\n",
    "#     if t == max_iteration - 1:\n",
    "#         break\n",
    "#     print('\\niteration', t+1, flush=True)\n",
    "#     word_statistics = {'LOW': Counter(), 'MID': Counter(), 'HIG': Counter()}\n",
    "#     progress = 0\n",
    "#     for l, item in zip(train_label, train_set):\n",
    "#         for sentnc in item:\n",
    "#             sigma = np.zeros(3)\n",
    "#             for wd in sentnc.split():\n",
    "#                 try:\n",
    "#                     sigma += LMH[wd]['count']\n",
    "#                 except:\n",
    "#                     pass\n",
    "#             if sigma[label2int[l]] > 0.15:\n",
    "#                 word_statistics[l] += Counter(sentnc.split())\n",
    "#         progress += 1\n",
    "#         if progress % 100 == 0:\n",
    "#             print('\\b'*10, round(progress/62522*100,2), '% ', end='', flush=True)\n",
    "\n",
    "print('\\ndone')"
   ]
  }
 ],
 "metadata": {
  "kernelspec": {
   "display_name": "Python 3",
   "language": "python",
   "name": "python3"
  },
  "language_info": {
   "codemirror_mode": {
    "name": "ipython",
    "version": 3
   },
   "file_extension": ".py",
   "mimetype": "text/x-python",
   "name": "python",
   "nbconvert_exporter": "python",
   "pygments_lexer": "ipython3",
   "version": "3.6.3"
  }
 },
 "nbformat": 4,
 "nbformat_minor": 2
}
