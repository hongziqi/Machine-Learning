{
 "cells": [
  {
   "cell_type": "code",
   "execution_count": 1,
   "metadata": {},
   "outputs": [],
   "source": [
    "import numpy as np\n",
    "import copy\n",
    "import random\n",
    "import operator\n",
    "import re\n",
    "import math\n",
    "from functools import reduce\n",
    "# import MC_MODEL as mc\n",
    "import matplotlib.pyplot as plt\n",
    "from collections import Counter"
   ]
  },
  {
   "cell_type": "code",
   "execution_count": 2,
   "metadata": {},
   "outputs": [],
   "source": [
    "stopwords = [\n",
    "# \t\"i\",          \"me\",         \"my\",         \"myself\",     \"we\",        \n",
    "# \t\"our\",        \"ours\",       \"ourselves\",  \"you\",        \"your\",      \n",
    "# \t\"yours\",      \"yourself\",   \"yourselves\", \"he\",         \"him\",       \n",
    "# \t\"his\",        \"himself\",    \"she\",        \"her\",        \"hers\",      \n",
    "# \t\"herself\",    \"it\",         \"its\",        \"itself\",     \"they\",      \n",
    "# \t\"them\",       \"their\",      \"theirs\",     \"themselves\", \"what\",      \n",
    "# \t\"which\",      \"who\",        \"whom\",       \"this\",       \"that\",      \n",
    "# \t\"these\",      \"those\",      \"am\",         \"is\",         \"are\",       \n",
    "# \t\"was\",        \"were\",       \"be\",         \"been\",       \"being\",     \n",
    "# \t\"have\",       \"has\",        \"had\",        \"having\",     \"do\",        \n",
    "# \t\"does\",       \"did\",        \"doing\",      \"would\",      \"should\",    \n",
    "# \t\"could\",      \"ought\",      \"i'm\",        \"you're\",     \"he's\",      \n",
    "# \t\"she's\",      \"it's\",       \"we're\",      \"they're\",    \"i've\",      \n",
    "# \t\"you've\",     \"we've\",      \"they've\",    \"i'd\",        \"you'd\",     \n",
    "# \t\"he'd\",       \"she'd\",      \"we'd\",       \"they'd\",     \"i'll\",      \n",
    "# \t\"you'll\",     \"he'll\",      \"she'll\",     \"we'll\",      \"they'll\",   \n",
    "# \t\"isn't\",      \"aren't\",     \"wasn't\",     \"weren't\",    \"hasn't\",    \n",
    "# \t\"haven't\",    \"hadn't\",     \"doesn't\",    \"don't\",      \"didn't\",    \n",
    "# \t\"won't\",      \"wouldn't\",   \"shan't\",     \"shouldn't\",  \"can't\",     \n",
    "# \t\"cannot\",     \"couldn't\",   \"mustn't\",    \"let's\",      \"that's\",    \n",
    "# \t\"who's\",      \"what's\",     \"here's\",     \"there's\",    \"when's\",    \n",
    "# \t\"where's\",    \"why's\",      \"how's\",      \"a\",          \"an\",        \n",
    "# \t\"the\",        \"and\",        \"but\",        \"if\",         \"or\",        \n",
    "# \t\"because\",    \"as\",         \"until\",      \"while\",      \"of\",        \n",
    "# \t\"at\",         \"by\",         \"for\",        \"with\",       \"about\",     \n",
    "# \t\"against\",    \"between\",    \"into\",       \"through\",    \"during\",    \n",
    "# \t\"before\",     \"after\",      \"above\",      \"below\",      \"to\",        \n",
    "# \t\"from\",       \"up\",         \"down\",       \"in\",         \"out\",       \n",
    "# \t\"on\",         \"off\",        \"over\",       \"under\",      \"again\",     \n",
    "# \t\"further\",    \"then\",       \"once\",       \"here\",       \"there\",     \n",
    "# \t\"when\",       \"where\",      \"why\",        \"how\",        \"all\",       \n",
    "# \t\"any\",        \"both\",       \"each\",       \"few\",        \"more\",      \n",
    "# \t\"most\",       \"other\",      \"some\",       \"such\",       \"no\",        \n",
    "# \t\"nor\",        \"not\",        \"only\",       \"own\",        \"same\",      \n",
    "# \t\"so\",         \"than\",       \"too\",        \"very\",       \"will\"\n",
    "]"
   ]
  },
  {
   "cell_type": "code",
   "execution_count": 3,
   "metadata": {},
   "outputs": [],
   "source": [
    "def clean(string):\n",
    "\tstring = re.sub('<sssss>' , ' ', string)\n",
    "# \tstring = re.sub('- *[lr]rb *-', ' ', string)\n",
    "# \tstring = re.sub('(^| )http:[^ ]+', ' ', string)\n",
    "# \tstring = re.sub('(^| )[A-Za-z]( |$)', ' ', string)\n",
    "# \tstring = re.sub('(^| )\\'[^ ]+', ' ', string)\n",
    "# \tstring = re.sub('(^| )n\\'t ', ' ', string)\n",
    "# \tstring = re.sub('[^A-Za-z !?/]+', '', string)\n",
    "# \tstring = re.sub('(^| )[A-Za-z]( |$)', ' ', string)\n",
    "\tstring = re.sub('/', ' ', string)\n",
    "\treturn string"
   ]
  },
  {
   "cell_type": "code",
   "execution_count": 42,
   "metadata": {},
   "outputs": [],
   "source": [
    "def readData(fpath):\n",
    "    file = open(fpath, encoding='UTF-8')\n",
    "    label, sentences, voc = [], [], []\n",
    "    for line in file:\n",
    "        l = line.split('\\t\\t')\n",
    "        label.append(l[0])\n",
    "        sen = clean(l[1])\n",
    "        sen = list(filter(lambda y:y not in stopwords, sen.split()))\n",
    "        sen = list(filter(lambda x:x, sen))\n",
    "#         sentences.append(sen if sen else ['qwerty'])\n",
    "        voc += sen\n",
    "    file.close()\n",
    "    return label, sentences, voc"
   ]
  },
  {
   "cell_type": "code",
   "execution_count": 6,
   "metadata": {},
   "outputs": [],
   "source": [
    "file = open('wordvec_6B_50d.txt', encoding='UTF-8')\n",
    "vec, wdvec_dict, order = [], {}, 0\n",
    "for line in file:\n",
    "\titem = line.strip().split()\n",
    "\tvec.append(list(map(float,item[1:])))\n",
    "\twdvec_dict[item[0]] = order\n",
    "\torder += 1\n",
    "file.close()\n",
    "def w2v(word):\n",
    "    if (word in wdvec_dict):\n",
    "        return np.array(vec[wdvec_dict[word]])\n",
    "    return np.zeros(50)"
   ]
  },
  {
   "cell_type": "code",
   "execution_count": 43,
   "metadata": {},
   "outputs": [],
   "source": [
    "label, train_sen, t_voc = readData('MulLabelTrain.ss')\n",
    "_, test_sen, test_voc = readData('MulLabelTest.ss')\n",
    "vlabel, valid_sen, valid_voc = readData('SmallValid.ss')"
   ]
  },
  {
   "cell_type": "code",
   "execution_count": 44,
   "metadata": {},
   "outputs": [],
   "source": [
    "train_x = []\n",
    "for ts in train_sen:\n",
    "    v = np.array(list(map(w2v,ts))).mean(axis=0)\n",
    "    train_x.append(v)\n",
    "train_x = np.array(train_x)\n",
    "test_x = []\n",
    "for ts in test_sen:\n",
    "    v = np.array(list(map(w2v,ts))).mean(axis=0)\n",
    "    test_x.append(v)\n",
    "test_x = np.array(test_x)"
   ]
  },
  {
   "cell_type": "code",
   "execution_count": 45,
   "metadata": {},
   "outputs": [],
   "source": [
    "valid_x = []\n",
    "for ts in valid_sen:\n",
    "    v = np.array(list(map(w2v,ts))).mean(axis=0)\n",
    "    valid_x.append(v)\n",
    "valid_x = np.array(valid_x)"
   ]
  },
  {
   "cell_type": "code",
   "execution_count": 46,
   "metadata": {},
   "outputs": [],
   "source": [
    "x0 = np.ones((train_x.shape[0],1))\n",
    "train_x = np.concatenate((x0, train_x), axis=1)\n",
    "x0 = np.ones((test_x.shape[0], 1))\n",
    "test_x = np.concatenate((x0, test_x), axis=1)\n",
    "x0 = np.ones((valid_x.shape[0], 1))\n",
    "valid_x = np.concatenate((x0, valid_x), axis=1)"
   ]
  },
  {
   "cell_type": "code",
   "execution_count": 47,
   "metadata": {},
   "outputs": [],
   "source": [
    "def dist_Train_test(train_X, label, test_item):\n",
    "\tdist = train_X - test_item\n",
    "\tdist = np.sum(dist * dist, axis=1)\n",
    "\titem = zip(dist, label)\n",
    "\treturn sorted(item, key=lambda x:x[0], reverse=True)\n",
    "\n",
    "def evaluate(TP, FN, TN, FP):\n",
    "\tAccuracy = (TP + TN) / np.float64(TP + FP + TN + FN)\n",
    "\treturn Accuracy\n",
    "def check(res, std):\n",
    "\tcount = [0]*4\n",
    "\tfor r, s in zip(res, std):\n",
    "\t\twrong = int(r != s)\n",
    "\t\tneg = int(s != 1)\n",
    "\t\tcount[neg * 2 + wrong] += 1\n",
    "\tprint(evaluate(*count))\n",
    "\treturn \n",
    "def sigmoid(X):\n",
    "\treturn 1 / (1 + np.exp(-X))\n",
    "class LogicalRegression(object):\n",
    "\t\"\"\"docstring for LogicalRegression\"\"\"\n",
    "\tdef __init__(self, train_X, train_y, weights=None, times=1000, alpha=0.01, c=2, style='batch'):\n",
    "\t\tself.train_X = train_X\n",
    "\t\tself.train_y = train_y\n",
    "\t\tself.times = times\n",
    "\t\tself.alpha = alpha\n",
    "\t\tself.c = c\n",
    "\t\tgradient = []\n",
    "\t\tif weights == None:\n",
    "\t\t\tweights = np.zeros((1,train_X.shape[1])) # 1*M\n",
    "\t\t# alpha = 0.000001\n",
    "\t\tepsilon = 1e-5\n",
    "\t\tself.w0 = weights.T # M*1\n",
    "\t\tp = sigmoid(np.dot(train_X, self.w0)) # N*M X M*1 = N*1\n",
    "\t\tJ0 = self.logistic_cost(p, train_y)\n",
    "\t\tK0 = K00 = J0\n",
    "\t\tfor t in range(times):\n",
    "\t\t\tp_y = p - train_y\n",
    "\t\t\tw = self.w0 - alpha * np.dot(train_X.T, p_y) \n",
    "\t\t\t# print(np.dot(train_X.transpose(), p_y))\n",
    "\t\t\tgradient.append(np.sum(-np.dot(train_X.T, p_y)))\n",
    "\t\t\t# w = self.w0 - alpha * np.dot(train_X.transpose(), p_y) / len(p) - lambda_ * self.w0 / len(p) #40*1\n",
    "\t\t\tp = sigmoid(np.dot(train_X, w))\n",
    "\t\t\tJ = self.logistic_cost(p, train_y)\n",
    "\t\t\tif t > 7 and K00 == J:\n",
    "\t\t\t\tbreak\n",
    "\t\t\tK00 = K0\n",
    "\t\t\tK0 = J\n",
    "\t\t\tif J < J0: # not convergent\n",
    "\t\t\t\tJ0 = J\n",
    "\t\t\t\tself.w0 = w\n",
    "\t\t\telse:\n",
    "\t\t\t\talpha /= c\n",
    "\t\t\t\tif np.linalg.norm(w - self.w0) < epsilon * np.linalg.norm(self.w0):\n",
    "\t\t\t\t\t# print('times: ', t)\n",
    "\t\t\t\t\tbreak\n",
    "\t\treturn # M*1\n",
    "\tdef LR(self, train_X, train_y,weights=None):\n",
    "\t\tgradient = []\n",
    "\t\tif weights == None:\n",
    "\t\t\tweights = np.zeros((1,train_X.shape[1])) # 1*M\n",
    "\t\t# alpha = 0.000001\n",
    "\t\tepsilon = 1e-3\n",
    "\t\tw0 = weights.T # M*1\n",
    "\t\t# print(w0)\n",
    "\t\tp = sigmoid(np.dot(train_X, w0)) # N*M X M*1 = N*1\n",
    "\t\tJ0 = self.logistic_cost(p, train_y)\n",
    "\t\tK0 = K00 = J0\n",
    "\t\tfor t in range(self.times):\n",
    "\t\t\tp_y = p - train_y\n",
    "\t\t\tw = w0 - self.alpha * np.dot(train_X.T, p_y) \n",
    "\t\t\t# print(np.dot(train_X.transpose(), p_y))\n",
    "\t\t\tgradient.append(np.sum(-np.dot(train_X.T, p_y)))\n",
    "\t\t\t# w = w0 - alpha * np.dot(train_X.transpose(), p_y) / len(p) - lambda_ * w0 / len(p) #40*1\n",
    "\t\t\tp = sigmoid(np.dot(train_X, w))\n",
    "\t\t\tJ = self.logistic_cost(p, train_y)\n",
    "\t\t\tif t > 7 and K00 == J:\n",
    "\t\t\t\tbreak\n",
    "\t\t\tK00 = K0\n",
    "\t\t\tK0 = J\n",
    "\t\t\tif J < J0: # not convergent\n",
    "\t\t\t\tJ0 = J\n",
    "\t\t\t\tw0 = w\n",
    "\t\t\telse:\n",
    "\t\t\t\tself.alpha /= self.c\n",
    "\t\t\t\tif np.linalg.norm(w - w0) < epsilon * np.linalg.norm(w0):\n",
    "\t\t\t\t\t# print('times: ', t)\n",
    "\t\t\t\t\tbreak\n",
    "\t\treturn w0 # M*1\n",
    "\tdef logistic_cost(self, p, train_y):\n",
    "\t\t_p = copy.deepcopy(p)\n",
    "\t\t_p[train_y == 0] = 1 - _p[train_y == 0]\n",
    "\t\treturn -sum(np.log(_p+0.000001)) \n",
    "\tdef predict(self, test_X):\n",
    "\t\treturn  sigmoid(np.dot(test_X, self.w0))\n",
    "\tdef groupValidation(self, k=10):\n",
    "\t\tn = self.train_X.shape[0]\n",
    "\t\tm = math.ceil(n/k)\n",
    "\t\tn_id = list(range(n))\n",
    "\t\trandom.shuffle(n_id)\n",
    "\t\tL = []\n",
    "\t\tL += list(map(lambda x:n_id[x:x+m] ,map(lambda i:i*m, range(10))))\n",
    "\t\treturn L\n",
    "\tdef crossValidation(self):\n",
    "\t\tL = self.groupValidation()\n",
    "\t\tfor i in range(len(L)):\n",
    "\t\t\tcp_L = copy.deepcopy(L)\n",
    "\t\t\tvali_id = cp_L.pop(i)\n",
    "\t\t\tvali_X, vali_y = self.train_X[vali_id], self.train_y[vali_id]\n",
    "\t\t\ttra_x, tra_y = self.train_X[reduce(operator.add,cp_L)], self.train_y[reduce(operator.add,cp_L)]\n",
    "\t\t\tweights = self.LR(tra_x, tra_y)\n",
    "\t\t\tres = np.dot(vali_X, weights)\n",
    "\t\t\tres = list(map(lambda x: 1 if x > 0 else 0, res))\n",
    "\t\t\tcheck(res, vali_y)\n",
    "\t\treturn"
   ]
  },
  {
   "cell_type": "code",
   "execution_count": 48,
   "metadata": {},
   "outputs": [],
   "source": [
    "def writefile(filename, res):\n",
    "    file = open(filename,'w')\n",
    "    for i in res:\n",
    "        file.write(i+'\\n')\n",
    "    file.close()\n",
    "    return\n",
    "def check_label(std, res):\n",
    "    return (np.array(res) == np.array(std)).sum() / len(std)\n",
    "def labelTonum(label):\n",
    "    L_y = list(map(lambda x:1 if x =='LOW' else 0, label))\n",
    "    L_y = np.array([L_y]).T\n",
    "    M_y = list(map(lambda x:1 if x =='MID' else 0, label))\n",
    "    M_y = np.array([M_y]).T\n",
    "    H_y = list(map(lambda x:1 if x =='HIG' else 0, label))\n",
    "    H_y = np.array([H_y]).T\n",
    "    return L_y, M_y, H_y\n",
    "def numTolabel(y):\n",
    "    name = ['LOW','MID','HIG']\n",
    "    return list(map(lambda x:name[x],y))\n",
    "def samplebalance(label, train, length,start=0):\n",
    "    l = list(map(lambda x:x[1] ,filter(lambda x: x[0]=='LOW',zip(label,range(len(label))))))\n",
    "    m = list(map(lambda x:x[1] ,filter(lambda x: x[0]=='MID',zip(label,range(len(label))))))\n",
    "    h = list(map(lambda x:x[1] ,filter(lambda x: x[0]=='HIG',zip(label,range(len(label))))))\n",
    "    index = l[start:length+start] + m[start:length+start] + h[start:length+start] \n",
    "    label_ = list(map(lambda x: label[x],index))\n",
    "    train_ = np.array(list(map(lambda x: train_x[x],index)))\n",
    "    return label_, train_"
   ]
  },
  {
   "cell_type": "code",
   "execution_count": 49,
   "metadata": {},
   "outputs": [
    {
     "name": "stdout",
     "output_type": "stream",
     "text": [
      "0.398\n",
      "0.468\n",
      "0.468\n",
      "0.468\n",
      "0.258\n"
     ]
    }
   ],
   "source": [
    "####################################KNN Validtion##########################\n",
    "slabel, strain_x = samplebalance(label, train_x,2000)\n",
    "K = [1,3,4,5,112]\n",
    "bag = []\n",
    "ac = 0\n",
    "for k in K:\n",
    "    KNN_pred = []\n",
    "    for item in valid_x:\n",
    "        NN = dist_Train_test(strain_x, slabel, item)\n",
    "        KNN_pred += [Counter(list(map(lambda x:x[1],NN[:k]))).most_common(1)[0][0]]\n",
    "#         ac = check_label(KNN_pred, vlabel)\n",
    "#         if check_label(KNN_pred, vlabel) > 0.4:\n",
    "    bag.append(KNN_pred)\n",
    "    print(check_label(KNN_pred, vlabel))\n",
    "####################################KNN Validtion##########################"
   ]
  },
  {
   "cell_type": "code",
   "execution_count": 50,
   "metadata": {},
   "outputs": [
    {
     "ename": "SyntaxError",
     "evalue": "can't use starred expression here (<ipython-input-50-23c75949ee23>, line 1)",
     "output_type": "error",
     "traceback": [
      "\u001b[1;36m  File \u001b[1;32m\"<ipython-input-50-23c75949ee23>\"\u001b[1;36m, line \u001b[1;32m1\u001b[0m\n\u001b[1;33m    *bag\u001b[0m\n\u001b[1;37m        ^\u001b[0m\n\u001b[1;31mSyntaxError\u001b[0m\u001b[1;31m:\u001b[0m can't use starred expression here\n"
     ]
    }
   ],
   "source": [
    "*bag"
   ]
  },
  {
   "cell_type": "code",
   "execution_count": 22,
   "metadata": {},
   "outputs": [
    {
     "name": "stdout",
     "output_type": "stream",
     "text": [
      "0.262\n",
      "0.262\n",
      "0.262\n",
      "0.262\n",
      "0.262\n",
      "0.262\n",
      "0.264\n",
      "0.206\n",
      "0.242\n",
      "0.234\n",
      "0.256\n",
      "0.264\n",
      "0.266\n",
      "0.266\n",
      "0.266\n",
      "0.266\n",
      "0.266\n"
     ]
    }
   ],
   "source": [
    "####################################KNN Validtion##########################\n",
    "slabel, strain_x = samplebalance(label, train_x,2000,2000)\n",
    "K = [1,2,3,4,5,6,7,10,15,20,30,40,70,90,100,111,112]\n",
    "for k in K:\n",
    "    KNN_pred = []\n",
    "    for item in valid_x:\n",
    "        NN = dist_Train_test(strain_x, slabel, item)\n",
    "        KNN_pred += [Counter(list(map(lambda x:x[1],NN[:k]))).most_common(1)[0][0]]\n",
    "    print(check_label(KNN_pred, vlabel))\n",
    "####################################KNN Validtion##########################"
   ]
  },
  {
   "cell_type": "code",
   "execution_count": null,
   "metadata": {},
   "outputs": [],
   "source": [
    "###################################LR Validtion############################\n",
    "x0 = np.ones((strain_x.shape[0],1))\n",
    "stx = np.concatenate((x0, strain_x), axis=1)\n",
    "x0 = np.ones((valid_x.shape[0], 1))\n",
    "vx = np.concatenate((x0, valid_x), axis=1)\n",
    "L_y, M_y, H_y = labelTonum(slabel)\n",
    "model_L = LogicalRegression(stx, L_y)\n",
    "model_M = LogicalRegression(stx, M_y)\n",
    "model_H = LogicalRegression(stx, H_y)\n",
    "pred_L = model_L.predict(vx)\n",
    "pred_M = model_M.predict(vx)\n",
    "pred_H = model_H.predict(vx)\n",
    "pred = np.concatenate((pred_L, pred_M, pred_H), axis=1)\n",
    "_res = pred.argmax(axis=1)\n",
    "res = numTolabel(_res)\n",
    "check_label(res, vlabel)\n",
    "###################################LR Validtion############################"
   ]
  },
  {
   "cell_type": "code",
   "execution_count": 1,
   "metadata": {},
   "outputs": [
    {
     "ename": "NameError",
     "evalue": "name 'test_x' is not defined",
     "output_type": "error",
     "traceback": [
      "\u001b[1;31m---------------------------------------------------------------------------\u001b[0m",
      "\u001b[1;31mNameError\u001b[0m                                 Traceback (most recent call last)",
      "\u001b[1;32m<ipython-input-1-77690b61943a>\u001b[0m in \u001b[0;36m<module>\u001b[1;34m()\u001b[0m\n\u001b[0;32m      2\u001b[0m \u001b[0mK\u001b[0m \u001b[1;33m=\u001b[0m \u001b[1;36m2\u001b[0m\u001b[1;33m\u001b[0m\u001b[0m\n\u001b[0;32m      3\u001b[0m \u001b[0mKNN_pred\u001b[0m \u001b[1;33m=\u001b[0m \u001b[1;33m[\u001b[0m\u001b[1;33m]\u001b[0m\u001b[1;33m\u001b[0m\u001b[0m\n\u001b[1;32m----> 4\u001b[1;33m \u001b[1;32mfor\u001b[0m \u001b[0mitem\u001b[0m \u001b[1;32min\u001b[0m \u001b[0mtest_x\u001b[0m\u001b[1;33m:\u001b[0m\u001b[1;33m\u001b[0m\u001b[0m\n\u001b[0m\u001b[0;32m      5\u001b[0m     \u001b[0mNN\u001b[0m \u001b[1;33m=\u001b[0m \u001b[0mdist_Train_test\u001b[0m\u001b[1;33m(\u001b[0m\u001b[0mtrain_x\u001b[0m\u001b[1;33m,\u001b[0m \u001b[0mlabel\u001b[0m\u001b[1;33m,\u001b[0m \u001b[0mitem\u001b[0m\u001b[1;33m)\u001b[0m\u001b[1;33m\u001b[0m\u001b[0m\n\u001b[0;32m      6\u001b[0m     \u001b[0mKNN_pred\u001b[0m \u001b[1;33m+=\u001b[0m \u001b[1;33m[\u001b[0m\u001b[0mCounter\u001b[0m\u001b[1;33m(\u001b[0m\u001b[0mlist\u001b[0m\u001b[1;33m(\u001b[0m\u001b[0mmap\u001b[0m\u001b[1;33m(\u001b[0m\u001b[1;32mlambda\u001b[0m \u001b[0mx\u001b[0m\u001b[1;33m:\u001b[0m\u001b[0mx\u001b[0m\u001b[1;33m[\u001b[0m\u001b[1;36m1\u001b[0m\u001b[1;33m]\u001b[0m\u001b[1;33m,\u001b[0m\u001b[0mNN\u001b[0m\u001b[1;33m[\u001b[0m\u001b[1;33m:\u001b[0m\u001b[0mK\u001b[0m\u001b[1;33m]\u001b[0m\u001b[1;33m)\u001b[0m\u001b[1;33m)\u001b[0m\u001b[1;33m)\u001b[0m\u001b[1;33m.\u001b[0m\u001b[0mmost_common\u001b[0m\u001b[1;33m(\u001b[0m\u001b[1;36m1\u001b[0m\u001b[1;33m)\u001b[0m\u001b[1;33m[\u001b[0m\u001b[1;36m0\u001b[0m\u001b[1;33m]\u001b[0m\u001b[1;33m[\u001b[0m\u001b[1;36m0\u001b[0m\u001b[1;33m]\u001b[0m\u001b[1;33m]\u001b[0m\u001b[1;33m\u001b[0m\u001b[0m\n",
      "\u001b[1;31mNameError\u001b[0m: name 'test_x' is not defined"
     ]
    }
   ],
   "source": [
    "###################################KNN test################################\n",
    "K = 2\n",
    "KNN_pred = []\n",
    "for item in test_x:\n",
    "    NN = dist_Train_test(train_x, label, item)\n",
    "    KNN_pred += [Counter(list(map(lambda x:x[1],NN[:K]))).most_common(1)[0][0]]\n",
    "writefile('KNN.csv', KNN_pred)\n",
    "###################################KNN test################################"
   ]
  },
  {
   "cell_type": "code",
   "execution_count": null,
   "metadata": {},
   "outputs": [],
   "source": [
    "###################################LR test################################\n",
    "x0 = np.ones((train_x.shape[0],1))\n",
    "trainx = np.concatenate((x0, train_x), axis=1)\n",
    "x0 = np.ones((test_x.shape[0], 1))\n",
    "testx = np.concatenate((x0, test_x), axis=1)\n",
    "\n",
    "L_y, M_y, H_y = labelTonum(label)\n",
    "model_L = LogicalRegression(trainx, L_y)\n",
    "model_M = LogicalRegression(trainx, M_y)\n",
    "model_H = LogicalRegression(trainx, H_y)\n",
    "pred_L = model_L.predict(testx)\n",
    "pred_M = model_M.predict(testx)\n",
    "pred_H = model_H.predict(testx)\n",
    "pred = np.concatenate((pred_L, pred_M, pred_H), axis=1)\n",
    "_res = pred.argmax(axis=1)\n",
    "LR_pred = numTolabel(_res)\n",
    "writefile('LR.csv', LR_pred)\n",
    "###################################LR test################################"
   ]
  },
  {
   "cell_type": "code",
   "execution_count": 34,
   "metadata": {
    "collapsed": true
   },
   "outputs": [],
   "source": [
    "pred = np.concatenate((pred_L, pred_M, pred_H), axis=1)\n",
    "# plt.scatter(range(len(pred.argmax(axis=1))), pred.argmax(axis=1))\n",
    "# plt.show()\n",
    "# plt.hist( pred.argmax(axis=1))\n",
    "# plt.show()\n",
    "_res = pred.argmax(axis=1)\n",
    "L_name = ['LOW','MID','HIG']\n",
    "res = list(map(lambda x:L_name[x], _res))\n",
    "\n",
    "# pred_L0 = model_L.predict(train_x[:500])\n",
    "# pred_M0 = model_M.predict(train_x[:500])\n",
    "# pred_H0 = model_H.predict(train_x[:500])\n",
    "# pred0 = np.concatenate((pred_L0, pred_M0, pred_H0), axis=1)\n",
    "# _res = pred0.argmax(axis=1)"
   ]
  },
  {
   "cell_type": "code",
   "execution_count": 39,
   "metadata": {},
   "outputs": [
    {
     "data": {
      "image/png": "[encoded data removed]",
      "text/plain": [
       "<matplotlib.figure.Figure at 0x21633df3240>"
      ]
     },
     "metadata": {},
     "output_type": "display_data"
    }
   ],
   "source": []
  },
  {
   "cell_type": "code",
   "execution_count": 36,
   "metadata": {},
   "outputs": [
    {
     "data": {
      "image/png": "[encoded data removed]",
      "text/plain": [
       "<matplotlib.figure.Figure at 0x21633d4d6d8>"
      ]
     },
     "metadata": {},
     "output_type": "display_data"
    }
   ],
   "source": []
  },
  {
   "cell_type": "code",
   "execution_count": 38,
   "metadata": {},
   "outputs": [
    {
     "data": {
      "image/png": "[encoded data removed]",
      "text/plain": [
       "<matplotlib.figure.Figure at 0x21633fa3a20>"
      ]
     },
     "metadata": {},
     "output_type": "display_data"
    }
   ],
   "source": []
  },
  {
   "cell_type": "code",
   "execution_count": 40,
   "metadata": {
    "collapsed": true
   },
   "outputs": [],
   "source": []
  },
  {
   "cell_type": "code",
   "execution_count": 41,
   "metadata": {},
   "outputs": [
    {
     "name": "stdout",
     "output_type": "stream",
     "text": [
      "0.562\n"
     ]
    }
   ],
   "source": [
    "# _res = pred0.argmax(axis=1)\n",
    "# res = []\n",
    "# for i in _res[:500]:\n",
    "#     if i == 0:\n",
    "#         res += ['LOW']\n",
    "#     elif i== 1:\n",
    "#         res += ['MID']\n",
    "#     else :\n",
    "#         res += ['HIG']\n",
    "# check(res,label[:500])"
   ]
  },
  {
   "cell_type": "code",
   "execution_count": null,
   "metadata": {
    "collapsed": true
   },
   "outputs": [],
   "source": []
  }
 ],
 "metadata": {
  "kernelspec": {
   "display_name": "Python 3",
   "language": "python",
   "name": "python3"
  },
  "language_info": {
   "codemirror_mode": {
    "name": "ipython",
    "version": 3
   },
   "file_extension": ".py",
   "mimetype": "text/x-python",
   "name": "python",
   "nbconvert_exporter": "python",
   "pygments_lexer": "ipython3",
   "version": "3.6.5"
  }
 },
 "nbformat": 4,
 "nbformat_minor": 2
}
